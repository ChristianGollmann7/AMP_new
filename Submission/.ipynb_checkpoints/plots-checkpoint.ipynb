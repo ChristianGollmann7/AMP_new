{
 "cells": [
  {
   "cell_type": "code",
   "execution_count": null,
   "metadata": {},
   "outputs": [],
   "source": [
    "import os\n",
    "import glob\n",
    "import pandas as pd\n",
    "import seaborn as sns\n",
    "import matplotlib.pyplot as plt\n",
    "import numpy as np\n",
    "\n",
    "import re\n",
    "\n",
    "def atof(text):\n",
    "    try:\n",
    "        retval = float(text)\n",
    "    except ValueError:\n",
    "        retval = text\n",
    "    return retval\n",
    "\n",
    "def natural_keys(text):\n",
    "    '''\n",
    "    alist.sort(key=natural_keys) sorts in human order\n",
    "    http://nedbatchelder.com/blog/200712/human_sorting.html\n",
    "    (See Toothy's implementation in the comments)\n",
    "    float regex comes from https://stackoverflow.com/a/12643073/190597\n",
    "    '''\n",
    "    return [ atof(c) for c in re.split(r'[+-]?([0-9]+(?:[.][0-9]*)?|[.][0-9]+)', text) ]\n"
   ]
  },
  {
   "cell_type": "code",
   "execution_count": null,
   "metadata": {},
   "outputs": [],
   "source": [
    "# Enter here from which folder the results shall be taken\n",
    "all_files = glob.glob(\"data/*.csv\")\n",
    "all_files.sort(key=natural_keys)\n",
    "\n",
    "\n",
    "li = []\n",
    "\n",
    "for filename in all_files:\n",
    "    df = pd.read_csv(filename, index_col=None, header=0,sep=\";\")\n",
    "    li.append(df)\n",
    "\n",
    "frame = pd.concat(li, axis=0, ignore_index=True)\n",
    "frame[[\"NumberOfThreads\", \"NumberOfIterations\",\"RunTime\",\"HowFair\"]] = frame[[\"NumberOfThreads\", \"NumberOfIterations\",\"RunTime\",\"HowFair\"]].astype(float)\n"
   ]
  },
  {
   "cell_type": "code",
   "execution_count": null,
   "metadata": {},
   "outputs": [],
   "source": [
    "df_MSC_lock = frame[(frame['NameOfLock'] == 'MCS_lock')]\n",
    "df_TTAS_lock = frame[(frame['NameOfLock'] == 'TTAS_lock')]\n",
    "df_TAS_lock = frame[(frame['NameOfLock'] == 'TAS_lock')]\n",
    "df_Array_lock = frame[(frame['NameOfLock'] == 'Array_lock')]\n",
    "df_Ticket_lock = frame[(frame['NameOfLock'] == 'Ticket_lock')]\n",
    "df_CLH_lock = frame[(frame['NameOfLock'] == 'CLH_lock')]\n",
    "df_Array_lock_padded = frame[(frame['NameOfLock'] == 'Array_lock_padded')]\n",
    "#df_Array_lock_optimized = frame[(frame['NameOfLock'] == 'Array_lock_optimized')]\n",
    "df_Native_lock = frame[(frame['NameOfLock'] == 'Native_lock')]\n",
    "df_omp_critical = frame[(frame['NameOfLock'] == 'omp_critical')]\n",
    "df_TTAS_lock\n",
    "df_CLH_lock"
   ]
  },
  {
   "cell_type": "code",
   "execution_count": null,
   "metadata": {
    "scrolled": false
   },
   "outputs": [],
   "source": [
    "f = 15\n",
    "plt.semilogy(df_MSC_lock.NumberOfThreads,df_MSC_lock.RunTime,label = \"MCS_lock\")\n",
    "plt.semilogy(df_TTAS_lock.NumberOfThreads,df_TTAS_lock.RunTime,label = \"TTAS_lock\")\n",
    "plt.semilogy(df_TAS_lock.NumberOfThreads,df_TAS_lock.RunTime,label = \"TAS_lock\")\n",
    "plt.semilogy(df_Array_lock.NumberOfThreads,df_Array_lock.RunTime,label = \"Array_lock\")\n",
    "plt.semilogy(df_Ticket_lock.NumberOfThreads,df_Ticket_lock.RunTime,label = \"Ticket_lock\")\n",
    "plt.semilogy(df_CLH_lock.NumberOfThreads,df_CLH_lock.RunTime,label = \"CLH_lock\")\n",
    "plt.semilogy(df_Array_lock_padded.NumberOfThreads,df_Array_lock_padded.RunTime,label = \"Array_lock_padded\")\n",
    "plt.semilogy(df_Native_lock.NumberOfThreads,df_Native_lock.RunTime,label = \"Native_lock\")\n",
    "plt.semilogy(df_omp_critical.NumberOfThreads,df_omp_critical.RunTime,label = \"omp_critical\")\n",
    "plt.rcParams['figure.figsize'] = [10, 5]\n",
    "plt.rc('xtick', labelsize=12) \n",
    "plt.rc('ytick', labelsize=12)\n",
    "plt.xlabel(\"NumberOfThreads\",fontsize=f)\n",
    "plt.ylabel(\"Time[ms]\",fontsize=f)\n",
    "plt.title(\"Time vs NumberOfThreads\",fontsize=f)\n",
    "plt.grid()\n",
    "plt.legend()\n",
    "plt.savefig(\"Time vs NumberOfThreads\")\n"
   ]
  },
  {
   "cell_type": "code",
   "execution_count": null,
   "metadata": {
    "scrolled": false
   },
   "outputs": [],
   "source": [
    "f = 15\n",
    "plt.plot(df_TTAS_lock.NumberOfThreads,df_TTAS_lock.RunTime,label = \"TTAS_lock\")\n",
    "plt.plot(df_TAS_lock.NumberOfThreads,df_TAS_lock.RunTime,label = \"TAS_lock\")\n",
    "plt.plot(df_Native_lock.NumberOfThreads,df_Native_lock.RunTime,label = \"Native_lock\")\n",
    "plt.plot(df_omp_critical.NumberOfThreads,df_omp_critical.RunTime,label = \"omp_critical\")\n",
    "plt.rcParams['figure.figsize'] = [10, 5]\n",
    "plt.rc('xtick', labelsize=12) \n",
    "plt.rc('ytick', labelsize=12) \n",
    "plt.xlabel(\"NumberOfThreads\", fontsize=f)\n",
    "plt.ylabel(\"Time[ms]\", fontsize =f)\n",
    "plt.title(\"Time vs NumberOfThreads\", fontsize=f)\n",
    "plt.grid()\n",
    "plt.legend(fontsize=f-2)\n",
    "plt.savefig(\"Time vs NumberOfThreads baselocks\")"
   ]
  },
  {
   "cell_type": "code",
   "execution_count": null,
   "metadata": {},
   "outputs": [],
   "source": [
    "f = 15\n",
    "iterations = 10000\n",
    "numberT = np.arange(1,61)\n",
    "maxDev = np.ones(60)\n",
    "for i in numberT:\n",
    "    mean = iterations/i\n",
    "    maximum = ((iterations-mean)*(iterations-mean)+(i-1)*mean*mean)/i\n",
    "    maxDev[i-1] = np.sqrt(maximum)\n",
    "    \n",
    "\n",
    "plt.plot(df_TTAS_lock.NumberOfThreads,df_TTAS_lock.HowFair,label = \"TTAS_lock\")\n",
    "plt.plot(df_TAS_lock.NumberOfThreads,df_TAS_lock.HowFair,label = \"TAS_lock\")\n",
    "plt.plot(df_Native_lock.NumberOfThreads,df_Native_lock.HowFair,label = \"Native_lock\")\n",
    "plt.plot(df_omp_critical.NumberOfThreads,df_omp_critical.HowFair,label = \"omp_critical\")\n",
    "plt.plot(numberT,maxDev,'--',label=\"theoretical biggest Standard Deviation\")\n",
    "plt.rcParams['figure.figsize'] = [10, 5]\n",
    "plt.rc('xtick', labelsize=12) \n",
    "plt.rc('ytick', labelsize=12) \n",
    "plt.xlabel(\"NumberOfThreads\", fontsize=f)\n",
    "plt.ylabel(\"Standard Deviation s [-]\", fontsize =f)\n",
    "plt.title(\"Fairness of base locks\", fontsize=f)\n",
    "plt.grid()\n",
    "plt.legend(fontsize=f-2)\n",
    "plt.savefig(\"Fairness of baselocks\")"
   ]
  },
  {
   "cell_type": "code",
   "execution_count": null,
   "metadata": {
    "scrolled": true
   },
   "outputs": [],
   "source": [
    "f = 15\n",
    "plt.plot(df_TTAS_lock.NumberOfThreads,df_TTAS_lock.RunTime,'--',label = \"TTAS_lock\")\n",
    "plt.plot(df_Ticket_lock.NumberOfThreads,df_Ticket_lock.RunTime,label = \"Ticket_lock\")\n",
    "plt.rcParams['figure.figsize'] = [10, 5]\n",
    "plt.rc('xtick', labelsize=12) \n",
    "plt.rc('ytick', labelsize=12) \n",
    "plt.xlabel(\"NumberOfThreads\", fontsize=f)\n",
    "plt.ylabel(\"Time[ms]\", fontsize =f)\n",
    "plt.title(\"Time vs NumberOfThreads\", fontsize=f)\n",
    "plt.grid()\n",
    "plt.legend(fontsize=f-2)\n",
    "plt.savefig(\"Time vs NumberOfThreads Ticket lock\")"
   ]
  },
  {
   "cell_type": "code",
   "execution_count": null,
   "metadata": {},
   "outputs": [],
   "source": [
    "f = 15\n",
    "plt.plot(df_Ticket_lock.NumberOfThreads,df_Ticket_lock.HowFair,label = \"Ticket_lock\")\n",
    "plt.rcParams['figure.figsize'] = [10, 5]\n",
    "plt.rc('xtick', labelsize=12) \n",
    "plt.rc('ytick', labelsize=12) \n",
    "plt.xlabel(\"NumberOfThreads\", fontsize=f)\n",
    "plt.ylabel(\"Standard Deviation s [-]\", fontsize =f)\n",
    "plt.title(\"Fairness of Ticket lock\", fontsize=f)\n",
    "plt.grid()\n",
    "plt.legend(fontsize=f-2)\n",
    "plt.savefig(\"Fairness of Ticket lock\")"
   ]
  },
  {
   "cell_type": "code",
   "execution_count": null,
   "metadata": {
    "scrolled": true
   },
   "outputs": [],
   "source": [
    "f = 15\n",
    "plt.plot(df_TTAS_lock.NumberOfThreads,df_TTAS_lock.RunTime,'--',label = \"TTAS_lock\")\n",
    "plt.plot(df_Ticket_lock.NumberOfThreads,df_Ticket_lock.RunTime,'--',label = \"Ticket_lock\")\n",
    "plt.plot(df_Array_lock.NumberOfThreads,df_Array_lock.RunTime,label = \"Array_lock\")\n",
    "plt.plot(df_Array_lock_padded.NumberOfThreads,df_Array_lock_padded.RunTime,label = \"Array_lock_padded\")\n",
    "plt.rcParams['figure.figsize'] = [10, 5]\n",
    "plt.rc('xtick', labelsize=12) \n",
    "plt.rc('ytick', labelsize=12) \n",
    "plt.xlabel(\"NumberOfThreads\", fontsize=f)\n",
    "plt.ylabel(\"Time[ms]\", fontsize =f)\n",
    "plt.title(\"Time vs NumberOfThreads\", fontsize=f)\n",
    "plt.grid()\n",
    "plt.legend(fontsize=f-2)\n",
    "plt.savefig(\"Time vs NumberOfThreads Array lock\")"
   ]
  },
  {
   "cell_type": "code",
   "execution_count": null,
   "metadata": {},
   "outputs": [],
   "source": [
    "f = 15\n",
    "plt.plot(df_Array_lock.NumberOfThreads,df_Array_lock.HowFair,label = \"Array_lock\")\n",
    "plt.plot(df_Array_lock_padded.NumberOfThreads,df_Array_lock_padded.HowFair,label = \"Array_lock_padded\")\n",
    "plt.rcParams['figure.figsize'] = [10, 5]\n",
    "plt.rc('xtick', labelsize=12) \n",
    "plt.rc('ytick', labelsize=12) \n",
    "plt.xlabel(\"NumberOfThreads\", fontsize=f)\n",
    "plt.ylabel(\"Standard Deviation s [-]\", fontsize =f)\n",
    "plt.title(\"Fairness of Array lock\", fontsize=f)\n",
    "plt.grid()\n",
    "plt.legend(fontsize=f-2)\n",
    "plt.savefig(\"Fairness of Array lock\")"
   ]
  },
  {
   "cell_type": "code",
   "execution_count": null,
   "metadata": {},
   "outputs": [],
   "source": [
    "# CLH Lock\n",
    "f = 15\n",
    "plt.plot(df_TTAS_lock.NumberOfThreads,df_TTAS_lock.RunTime,'--',label = \"TTAS_lock\")\n",
    "plt.plot(df_Ticket_lock.NumberOfThreads,df_Ticket_lock.RunTime,'--',label = \"Ticket_lock\")\n",
    "plt.plot(df_Array_lock.NumberOfThreads,df_Array_lock.RunTime,'--',label = \"Array_lock\")\n",
    "plt.plot(df_Array_lock_padded.NumberOfThreads,df_Array_lock_padded.RunTime,'--',label = \"Array_lock_padded\")\n",
    "plt.plot(df_CLH_lock.NumberOfThreads,df_CLH_lock.RunTime,label = \"CLH_lock\")\n",
    "plt.rcParams['figure.figsize'] = [10, 5]\n",
    "plt.rc('xtick', labelsize=12) \n",
    "plt.rc('ytick', labelsize=12) \n",
    "plt.xlabel(\"NumberOfThreads\", fontsize=f)\n",
    "plt.ylabel(\"Time[ms]\", fontsize =f)\n",
    "plt.title(\"Time vs NumberOfThreads\", fontsize=f)\n",
    "plt.grid()\n",
    "plt.legend(fontsize=f-2)\n",
    "plt.savefig(\"Time vs NumberOfThreads CLH lock\")"
   ]
  },
  {
   "cell_type": "code",
   "execution_count": null,
   "metadata": {
    "scrolled": true
   },
   "outputs": [],
   "source": [
    "f = 15\n",
    "plt.plot(df_CLH_lock.NumberOfThreads,df_CLH_lock.HowFair,label = \"CLH_lock\")\n",
    "plt.rcParams['figure.figsize'] = [10, 5]\n",
    "plt.rc('xtick', labelsize=12) \n",
    "plt.rc('ytick', labelsize=12) \n",
    "plt.xlabel(\"NumberOfThreads\", fontsize=f)\n",
    "plt.ylabel(\"Standard Deviation s [-]\", fontsize =f)\n",
    "plt.title(\"Fairness of CLH lock\", fontsize=f)\n",
    "plt.grid()\n",
    "plt.legend(fontsize=f-2)\n",
    "plt.savefig(\"Fairness of CLH lock\")"
   ]
  },
  {
   "cell_type": "code",
   "execution_count": null,
   "metadata": {},
   "outputs": [],
   "source": [
    "# MSC Lock\n",
    "f = 15\n",
    "plt.plot(df_TTAS_lock.NumberOfThreads,df_TTAS_lock.RunTime,'--',label = \"TTAS_lock\")\n",
    "plt.plot(df_Ticket_lock.NumberOfThreads,df_Ticket_lock.RunTime,'--',label = \"Ticket_lock\")\n",
    "plt.plot(df_Array_lock.NumberOfThreads,df_Array_lock.RunTime,'--',label = \"Array_lock\")\n",
    "plt.plot(df_Array_lock_padded.NumberOfThreads,df_Array_lock_padded.RunTime,'--',label = \"Array_lock_padded\")\n",
    "plt.plot(df_CLH_lock.NumberOfThreads,df_CLH_lock.RunTime,'--',label = \"CLH_lock\")\n",
    "plt.plot(df_MSC_lock.NumberOfThreads,df_MSC_lock.RunTime,label = \"MCS_lock\")\n",
    "plt.rcParams['figure.figsize'] = [10, 5]\n",
    "plt.rc('xtick', labelsize=12) \n",
    "plt.rc('ytick', labelsize=12) \n",
    "plt.xlabel(\"NumberOfThreads\", fontsize=f)\n",
    "plt.ylabel(\"Time[ms]\", fontsize =f)\n",
    "plt.title(\"Time vs NumberOfThreads\", fontsize=f)\n",
    "plt.grid()\n",
    "plt.legend(fontsize=f-2)\n",
    "plt.savefig(\"Time vs NumberOfThreads MCS lock\")"
   ]
  },
  {
   "cell_type": "code",
   "execution_count": null,
   "metadata": {},
   "outputs": [],
   "source": [
    "f = 15\n",
    "plt.plot(df_CLH_lock.NumberOfThreads,df_CLH_lock.HowFair,label = \"MCS_lock\")\n",
    "plt.rcParams['figure.figsize'] = [10, 5]\n",
    "plt.rc('xtick', labelsize=12) \n",
    "plt.rc('ytick', labelsize=12) \n",
    "plt.xlabel(\"NumberOfThreads\", fontsize=f)\n",
    "plt.ylabel(\"Standard Deviation s [-]\", fontsize =f)\n",
    "plt.title(\"Fairness of MSC lock\", fontsize=f)\n",
    "plt.grid()\n",
    "plt.legend(fontsize=f-2)\n",
    "plt.savefig(\"Fairness of MCS lock\")"
   ]
  },
  {
   "cell_type": "code",
   "execution_count": null,
   "metadata": {},
   "outputs": [],
   "source": [
    "plt.errorbar(df_TAS_lock.NumberOfThreads, df_TAS_lock.RunTime, yerr=df_TAS_lock.Timevar, fmt='.k')"
   ]
  },
  {
   "cell_type": "code",
   "execution_count": null,
   "metadata": {},
   "outputs": [],
   "source": [
    "plt.plot(df_TAS_lock.NumberOfThreads, df_TAS_lock.RunTime, 'k-')\n",
    "plt.fill_between(df_TAS_lock.NumberOfThreads, df_TAS_lock.RunTime-df_TAS_lock.Timevar, df_TAS_lock.RunTime+df_TAS_lock.Timevar)"
   ]
  },
  {
   "cell_type": "code",
   "execution_count": null,
   "metadata": {},
   "outputs": [],
   "source": [
    "plt.plot(df_TTAS_lock.NumberOfThreads, df_TTAS_lock.RunTime, 'k-')\n",
    "plt.fill_between(df_TTAS_lock.NumberOfThreads, df_TTAS_lock.RunTime-df_TTAS_lock.Timevar, df_TTAS_lock.RunTime+df_TTAS_lock.Timevar)"
   ]
  },
  {
   "cell_type": "code",
   "execution_count": null,
   "metadata": {},
   "outputs": [],
   "source": [
    "plt.plot(df_Ticket_lock.NumberOfThreads, df_Ticket_lock.RunTime, 'k-')\n",
    "plt.fill_between(df_Ticket_lock.NumberOfThreads, df_Ticket_lock.RunTime-df_Ticket_lock.Timevar, df_Ticket_lock.RunTime+df_Ticket_lock.Timevar)"
   ]
  },
  {
   "cell_type": "code",
   "execution_count": null,
   "metadata": {},
   "outputs": [],
   "source": [
    "plt.plot(df_Array_lock.NumberOfThreads, df_Array_lock.RunTime, 'k-')\n",
    "plt.fill_between(df_Array_lock.NumberOfThreads, df_Array_lock.RunTime-df_Array_lock.Timevar, df_Array_lock.RunTime+df_Array_lock.Timevar)"
   ]
  },
  {
   "cell_type": "code",
   "execution_count": null,
   "metadata": {},
   "outputs": [],
   "source": [
    "f = 15\n",
    "plt.plot(df_MSC_lock.NumberOfThreads,df_MSC_lock.HowOftenWhile,label = \"MCS_lock\")\n",
    "plt.plot(df_TTAS_lock.NumberOfThreads,df_TTAS_lock.HowOftenWhile,label = \"TTAS_lock\")\n",
    "plt.plot(df_TAS_lock.NumberOfThreads,df_TAS_lock.HowOftenWhile,label = \"TAS_lock\")\n",
    "plt.plot(df_Array_lock.NumberOfThreads,df_Array_lock.HowOftenWhile,label = \"Array_lock\")\n",
    "plt.plot(df_Ticket_lock.NumberOfThreads,df_Ticket_lock.HowOftenWhile,label = \"Ticket_lock\")\n",
    "plt.plot(df_CLH_lock.NumberOfThreads,df_CLH_lock.HowOftenWhile,label = \"CLH_lock\")\n",
    "plt.plot(df_Array_lock_padded.NumberOfThreads,df_Array_lock_padded.HowOftenWhile,label = \"Array_lock_padded\")\n",
    "#plt.semilogy(df_Native_lock.NumberOfThreads,df_Native_lock.HowOftenWhile,label = \"Native_lock\")\n",
    "#plt.semilogy(df_omp_critical.NumberOfThreads,df_omp_critical.HowOftenWhile,label = \"omp_critical\")\n",
    "plt.rcParams['figure.figsize'] = [10, 5]\n",
    "plt.rc('xtick', labelsize=12) \n",
    "plt.rc('ytick', labelsize=12)\n",
    "plt.xlabel(\"NumberOfThreads\",fontsize=f)\n",
    "plt.ylabel(\"howOftenWhileGotCalled\",fontsize=f)\n",
    "plt.title(\"How often While loop in lock() got called\",fontsize=f)\n",
    "plt.grid()\n",
    "plt.legend()\n",
    "plt.savefig(\"How often While loop in lock() got called\")"
   ]
  },
  {
   "cell_type": "code",
   "execution_count": null,
   "metadata": {},
   "outputs": [],
   "source": [
    "f = 14\n",
    "plt.plot(df_MSC_lock.NumberOfThreads,df_MSC_lock.HowOftenWhileDeviation,label = \"MCS_lock\")\n",
    "plt.plot(df_TTAS_lock.NumberOfThreads,df_TTAS_lock.HowOftenWhileDeviation,label = \"TTAS_lock\")\n",
    "plt.plot(df_TAS_lock.NumberOfThreads,df_TAS_lock.HowOftenWhileDeviation,label = \"TAS_lock\")\n",
    "plt.plot(df_Array_lock.NumberOfThreads,df_Array_lock.HowOftenWhileDeviation,label = \"Array_lock\")\n",
    "plt.plot(df_Ticket_lock.NumberOfThreads,df_Ticket_lock.HowOftenWhileDeviation,label = \"Ticket_lock\")\n",
    "plt.plot(df_CLH_lock.NumberOfThreads,df_CLH_lock.HowOftenWhileDeviation,label = \"CLH_lock\")\n",
    "plt.plot(df_Array_lock_padded.NumberOfThreads,df_Array_lock_padded.HowOftenWhileDeviation,label = \"Array_lock_padded\")\n",
    "#plt.semilogy(df_Native_lock.NumberOfThreads,df_Native_lock.HowOftenWhile,label = \"Native_lock\")\n",
    "#plt.semilogy(df_omp_critical.NumberOfThreads,df_omp_critical.HowOftenWhile,label = \"omp_critical\")\n",
    "plt.rcParams['figure.figsize'] = [10, 5]\n",
    "plt.rc('xtick', labelsize=12) \n",
    "plt.rc('ytick', labelsize=12)\n",
    "plt.xlabel(\"NumberOfThreads\",fontsize=f)\n",
    "plt.ylabel(\"howOftenWhileGotCalled Deviation\",fontsize=f)\n",
    "plt.title(\"How often While loop in lock() got called Deviation\",fontsize=f)\n",
    "plt.grid()\n",
    "plt.legend()\n",
    "plt.savefig(\"How often While loop in lock() got called Deviation\")"
   ]
  },
  {
   "cell_type": "code",
   "execution_count": null,
   "metadata": {},
   "outputs": [],
   "source": [
    "f = 14\n",
    "y = df_MSC_lock.HowOftenWhile.tolist()\n",
    "plt.plot(df_MSC_lock.NumberOfThreads,y,label = \"how often while-loop got executed in average per iteration\")\n",
    "plt.plot(df_MSC_lock.NumberOfThreads,df_MSC_lock.HowOftenWhileDeviation,label = \"Deviation of how often while-loop got executed\")\n",
    "theoretical = np.ones((len(y)))\n",
    "for i in range(len(y)):\n",
    "    theoretical[i] = np.sqrt(y[i]*y[i]*i)\n",
    "plt.plot(df_MSC_lock.NumberOfThreads,theoretical,label = \"theoretical max Deviation if only one thread spinned in while\")\n",
    "\n",
    "plt.rcParams['figure.figsize'] = [10, 5]\n",
    "plt.rc('xtick', labelsize=12) \n",
    "plt.rc('ytick', labelsize=12)\n",
    "plt.xlabel(\"NumberOfThreads\",fontsize=f)\n",
    "plt.ylabel(\"[-]\",fontsize=f)\n",
    "plt.title(\"How often While loop in lock() got called MCS\",fontsize=f)\n",
    "plt.grid()\n",
    "plt.legend()\n",
    "plt.savefig(\"WhileLoopMCS\")"
   ]
  },
  {
   "cell_type": "code",
   "execution_count": null,
   "metadata": {},
   "outputs": [],
   "source": [
    "f = 14\n",
    "y = df_TAS_lock.HowOftenWhile.tolist()\n",
    "plt.plot(df_TAS_lock.NumberOfThreads,y,label = \"how often while-loop got executed in average per iteration\")\n",
    "plt.plot(df_TAS_lock.NumberOfThreads,df_TAS_lock.HowOftenWhileDeviation,label = \"Deviation of how often while-loop got executed\")\n",
    "theoretical = np.ones((len(y)))\n",
    "for i in range(len(y)):\n",
    "    theoretical[i] = np.sqrt(y[i]*y[i]*i)\n",
    "plt.plot(df_TAS_lock.NumberOfThreads,theoretical,label = \"theoretical max Deviation if only one thread spinned in while\")\n",
    "\n",
    "plt.rcParams['figure.figsize'] = [10, 5]\n",
    "plt.rc('xtick', labelsize=12) \n",
    "plt.rc('ytick', labelsize=12)\n",
    "plt.xlabel(\"NumberOfThreads\",fontsize=f)\n",
    "plt.ylabel(\"[-]\",fontsize=f)\n",
    "plt.title(\"How often While loop in lock() got called TAS\",fontsize=f)\n",
    "plt.grid()\n",
    "plt.legend()\n",
    "plt.savefig(\"WhileLoopTAS\")"
   ]
  },
  {
   "cell_type": "code",
   "execution_count": null,
   "metadata": {},
   "outputs": [],
   "source": [
    "f = 14\n",
    "y = df_TTAS_lock.HowOftenWhile.tolist()\n",
    "plt.plot(df_TTAS_lock.NumberOfThreads,y,label = \"how often while-loop got executed in average per iteration\")\n",
    "plt.plot(df_TTAS_lock.NumberOfThreads,df_TTAS_lock.HowOftenWhileDeviation,label = \"Deviation of how often while-loop got executed\")\n",
    "theoretical = np.ones((len(y)))\n",
    "for i in range(len(y)):\n",
    "    theoretical[i] = np.sqrt(y[i]*y[i]*i)\n",
    "plt.plot(df_TTAS_lock.NumberOfThreads,theoretical,label = \"theoretical max Deviation if only one thread spinned in while\")\n",
    "\n",
    "plt.rcParams['figure.figsize'] = [10, 5]\n",
    "plt.rc('xtick', labelsize=12) \n",
    "plt.rc('ytick', labelsize=12)\n",
    "plt.xlabel(\"NumberOfThreads\",fontsize=f)\n",
    "plt.ylabel(\"[-]\",fontsize=f)\n",
    "plt.title(\"How often While loop in lock() got called TTAS\",fontsize=f)\n",
    "plt.grid()\n",
    "plt.legend()\n",
    "plt.savefig(\"WhileLoopTTAS\")"
   ]
  },
  {
   "cell_type": "code",
   "execution_count": null,
   "metadata": {},
   "outputs": [],
   "source": [
    "f = 14\n",
    "y = df_Ticket_lock.HowOftenWhile.tolist()\n",
    "plt.plot(df_Ticket_lock.NumberOfThreads,y,label = \"how often while-loop got executed in average per iteration\")\n",
    "plt.plot(df_Ticket_lock.NumberOfThreads,df_Ticket_lock.HowOftenWhileDeviation,label = \"Deviation of how often while-loop got executed\")\n",
    "theoretical = np.ones((len(y)))\n",
    "for i in range(len(y)):\n",
    "    theoretical[i] = np.sqrt(y[i]*y[i]*i)\n",
    "plt.plot(df_Ticket_lock.NumberOfThreads,theoretical,label = \"theoretical max Deviation if only one thread spinned in while\")\n",
    "\n",
    "plt.rcParams['figure.figsize'] = [10, 5]\n",
    "plt.rc('xtick', labelsize=12) \n",
    "plt.rc('ytick', labelsize=12)\n",
    "plt.xlabel(\"NumberOfThreads\",fontsize=f)\n",
    "plt.ylabel(\"[-]\",fontsize=f)\n",
    "plt.title(\"How often While loop in lock() got called Ticket\",fontsize=f)\n",
    "plt.grid()\n",
    "plt.legend()\n",
    "plt.savefig(\"WhileLoopTickt\")"
   ]
  },
  {
   "cell_type": "code",
   "execution_count": null,
   "metadata": {},
   "outputs": [],
   "source": [
    "f = 14\n",
    "y = df_Array_lock.HowOftenWhile.tolist()\n",
    "plt.plot(df_Array_lock.NumberOfThreads,y,label = \"how often while-loop got executed in average per iteration\")\n",
    "plt.plot(df_Array_lock.NumberOfThreads,df_Array_lock.HowOftenWhileDeviation,label = \"Deviation of how often while-loop got executed\")\n",
    "theoretical = np.ones((len(y)))\n",
    "for i in range(len(y)):\n",
    "    theoretical[i] = np.sqrt(y[i]*y[i]*i)\n",
    "plt.plot(df_Array_lock.NumberOfThreads,theoretical,label = \"theoretical max Deviation if only one thread spinned in while\")\n",
    "\n",
    "plt.rcParams['figure.figsize'] = [10, 5]\n",
    "plt.rc('xtick', labelsize=12) \n",
    "plt.rc('ytick', labelsize=12)\n",
    "plt.xlabel(\"NumberOfThreads\",fontsize=f)\n",
    "plt.ylabel(\"[-]\",fontsize=f)\n",
    "plt.title(\"How often While loop in lock() got called Array\",fontsize=f)\n",
    "plt.grid()\n",
    "plt.legend()\n",
    "plt.savefig(\"WhileLoopArray\")"
   ]
  },
  {
   "cell_type": "code",
   "execution_count": null,
   "metadata": {},
   "outputs": [],
   "source": [
    "f = 14\n",
    "y = df_CLH_lock.HowOftenWhile.tolist()\n",
    "plt.plot(df_CLH_lock.NumberOfThreads,y,label = \"how often while-loop got executed in average per iteration\")\n",
    "plt.plot(df_CLH_lock.NumberOfThreads,df_CLH_lock.HowOftenWhileDeviation,label = \"Deviation of how often while-loop got executed\")\n",
    "theoretical = np.ones((len(y)))\n",
    "for i in range(len(y)):\n",
    "    theoretical[i] = np.sqrt(y[i]*y[i]*i)\n",
    "plt.plot(df_CLH_lock.NumberOfThreads,theoretical,label = \"theoretical max Deviation if only one thread spinned in while\")\n",
    "\n",
    "plt.rcParams['figure.figsize'] = [10, 5]\n",
    "plt.rc('xtick', labelsize=12) \n",
    "plt.rc('ytick', labelsize=12)\n",
    "plt.xlabel(\"NumberOfThreads\",fontsize=f)\n",
    "plt.ylabel(\"[-]\",fontsize=f)\n",
    "plt.title(\"How often While loop in lock() got called CLH\",fontsize=f)\n",
    "plt.grid()\n",
    "plt.legend()\n",
    "plt.savefig(\"WhileLoopCLH\")"
   ]
  }
 ],
 "metadata": {
  "kernelspec": {
   "display_name": "Python 3",
   "language": "python",
   "name": "python3"
  },
  "language_info": {
   "codemirror_mode": {
    "name": "ipython",
    "version": 3
   },
   "file_extension": ".py",
   "mimetype": "text/x-python",
   "name": "python",
   "nbconvert_exporter": "python",
   "pygments_lexer": "ipython3",
   "version": "3.6.9"
  }
 },
 "nbformat": 4,
 "nbformat_minor": 4
}
