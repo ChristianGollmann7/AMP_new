{
 "cells": [
  {
   "cell_type": "code",
   "execution_count": 1,
   "metadata": {},
   "outputs": [],
   "source": [
    "import os\n",
    "import glob\n",
    "import pandas as pd\n",
    "import seaborn as sns\n",
    "import matplotlib.pyplot as plt\n",
    "import numpy as np\n",
    "\n",
    "import re\n",
    "\n",
    "def atof(text):\n",
    "    try:\n",
    "        retval = float(text)\n",
    "    except ValueError:\n",
    "        retval = text\n",
    "    return retval\n",
    "\n",
    "def natural_keys(text):\n",
    "    '''\n",
    "    alist.sort(key=natural_keys) sorts in human order\n",
    "    http://nedbatchelder.com/blog/200712/human_sorting.html\n",
    "    (See Toothy's implementation in the comments)\n",
    "    float regex comes from https://stackoverflow.com/a/12643073/190597\n",
    "    '''\n",
    "    return [ atof(c) for c in re.split(r'[+-]?([0-9]+(?:[.][0-9]*)?|[.][0-9]+)', text) ]\n"
   ]
  },
  {
   "cell_type": "code",
   "execution_count": 3,
   "metadata": {},
   "outputs": [
    {
     "ename": "KeyError",
     "evalue": "\"['howOftenCalledWhile'] not in index\"",
     "output_type": "error",
     "traceback": [
      "\u001b[0;31m---------------------------------------------------------------------------\u001b[0m",
      "\u001b[0;31mKeyError\u001b[0m                                  Traceback (most recent call last)",
      "\u001b[0;32m<ipython-input-3-c16cd885de2c>\u001b[0m in \u001b[0;36m<module>\u001b[0;34m()\u001b[0m\n\u001b[1;32m     10\u001b[0m \u001b[0;34m\u001b[0m\u001b[0m\n\u001b[1;32m     11\u001b[0m \u001b[0mframe\u001b[0m \u001b[0;34m=\u001b[0m \u001b[0mpd\u001b[0m\u001b[0;34m.\u001b[0m\u001b[0mconcat\u001b[0m\u001b[0;34m(\u001b[0m\u001b[0mli\u001b[0m\u001b[0;34m,\u001b[0m \u001b[0maxis\u001b[0m\u001b[0;34m=\u001b[0m\u001b[0;36m0\u001b[0m\u001b[0;34m,\u001b[0m \u001b[0mignore_index\u001b[0m\u001b[0;34m=\u001b[0m\u001b[0;32mTrue\u001b[0m\u001b[0;34m)\u001b[0m\u001b[0;34m\u001b[0m\u001b[0;34m\u001b[0m\u001b[0m\n\u001b[0;32m---> 12\u001b[0;31m \u001b[0mframe\u001b[0m\u001b[0;34m[\u001b[0m\u001b[0;34m[\u001b[0m\u001b[0;34m\"NumberOfThreads\"\u001b[0m\u001b[0;34m,\u001b[0m \u001b[0;34m\"NumberOfIterations\"\u001b[0m\u001b[0;34m,\u001b[0m\u001b[0;34m\"RunTime\"\u001b[0m\u001b[0;34m,\u001b[0m\u001b[0;34m\"HowFair\"\u001b[0m\u001b[0;34m,\u001b[0m\u001b[0;34m\"howOftenCalledWhile\"\u001b[0m\u001b[0;34m]\u001b[0m\u001b[0;34m]\u001b[0m \u001b[0;34m=\u001b[0m \u001b[0mframe\u001b[0m\u001b[0;34m[\u001b[0m\u001b[0;34m[\u001b[0m\u001b[0;34m\"NumberOfThreads\"\u001b[0m\u001b[0;34m,\u001b[0m \u001b[0;34m\"NumberOfIterations\"\u001b[0m\u001b[0;34m,\u001b[0m\u001b[0;34m\"RunTime\"\u001b[0m\u001b[0;34m,\u001b[0m\u001b[0;34m\"HowFair\"\u001b[0m\u001b[0;34m,\u001b[0m\u001b[0;34m\"howOftenCalledWhile\"\u001b[0m\u001b[0;34m]\u001b[0m\u001b[0;34m]\u001b[0m\u001b[0;34m.\u001b[0m\u001b[0mastype\u001b[0m\u001b[0;34m(\u001b[0m\u001b[0mfloat\u001b[0m\u001b[0;34m)\u001b[0m\u001b[0;34m\u001b[0m\u001b[0;34m\u001b[0m\u001b[0m\n\u001b[0m",
      "\u001b[0;32m/home/christian/.local/lib/python3.6/site-packages/pandas/core/frame.py\u001b[0m in \u001b[0;36m__getitem__\u001b[0;34m(self, key)\u001b[0m\n\u001b[1;32m   2804\u001b[0m             \u001b[0;32mif\u001b[0m \u001b[0mis_iterator\u001b[0m\u001b[0;34m(\u001b[0m\u001b[0mkey\u001b[0m\u001b[0;34m)\u001b[0m\u001b[0;34m:\u001b[0m\u001b[0;34m\u001b[0m\u001b[0;34m\u001b[0m\u001b[0m\n\u001b[1;32m   2805\u001b[0m                 \u001b[0mkey\u001b[0m \u001b[0;34m=\u001b[0m \u001b[0mlist\u001b[0m\u001b[0;34m(\u001b[0m\u001b[0mkey\u001b[0m\u001b[0;34m)\u001b[0m\u001b[0;34m\u001b[0m\u001b[0;34m\u001b[0m\u001b[0m\n\u001b[0;32m-> 2806\u001b[0;31m             \u001b[0mindexer\u001b[0m \u001b[0;34m=\u001b[0m \u001b[0mself\u001b[0m\u001b[0;34m.\u001b[0m\u001b[0mloc\u001b[0m\u001b[0;34m.\u001b[0m\u001b[0m_get_listlike_indexer\u001b[0m\u001b[0;34m(\u001b[0m\u001b[0mkey\u001b[0m\u001b[0;34m,\u001b[0m \u001b[0maxis\u001b[0m\u001b[0;34m=\u001b[0m\u001b[0;36m1\u001b[0m\u001b[0;34m,\u001b[0m \u001b[0mraise_missing\u001b[0m\u001b[0;34m=\u001b[0m\u001b[0;32mTrue\u001b[0m\u001b[0;34m)\u001b[0m\u001b[0;34m[\u001b[0m\u001b[0;36m1\u001b[0m\u001b[0;34m]\u001b[0m\u001b[0;34m\u001b[0m\u001b[0;34m\u001b[0m\u001b[0m\n\u001b[0m\u001b[1;32m   2807\u001b[0m \u001b[0;34m\u001b[0m\u001b[0m\n\u001b[1;32m   2808\u001b[0m         \u001b[0;31m# take() does not accept boolean indexers\u001b[0m\u001b[0;34m\u001b[0m\u001b[0;34m\u001b[0m\u001b[0;34m\u001b[0m\u001b[0m\n",
      "\u001b[0;32m/home/christian/.local/lib/python3.6/site-packages/pandas/core/indexing.py\u001b[0m in \u001b[0;36m_get_listlike_indexer\u001b[0;34m(self, key, axis, raise_missing)\u001b[0m\n\u001b[1;32m   1551\u001b[0m \u001b[0;34m\u001b[0m\u001b[0m\n\u001b[1;32m   1552\u001b[0m         self._validate_read_indexer(\n\u001b[0;32m-> 1553\u001b[0;31m             \u001b[0mkeyarr\u001b[0m\u001b[0;34m,\u001b[0m \u001b[0mindexer\u001b[0m\u001b[0;34m,\u001b[0m \u001b[0mo\u001b[0m\u001b[0;34m.\u001b[0m\u001b[0m_get_axis_number\u001b[0m\u001b[0;34m(\u001b[0m\u001b[0maxis\u001b[0m\u001b[0;34m)\u001b[0m\u001b[0;34m,\u001b[0m \u001b[0mraise_missing\u001b[0m\u001b[0;34m=\u001b[0m\u001b[0mraise_missing\u001b[0m\u001b[0;34m\u001b[0m\u001b[0;34m\u001b[0m\u001b[0m\n\u001b[0m\u001b[1;32m   1554\u001b[0m         )\n\u001b[1;32m   1555\u001b[0m         \u001b[0;32mreturn\u001b[0m \u001b[0mkeyarr\u001b[0m\u001b[0;34m,\u001b[0m \u001b[0mindexer\u001b[0m\u001b[0;34m\u001b[0m\u001b[0;34m\u001b[0m\u001b[0m\n",
      "\u001b[0;32m/home/christian/.local/lib/python3.6/site-packages/pandas/core/indexing.py\u001b[0m in \u001b[0;36m_validate_read_indexer\u001b[0;34m(self, key, indexer, axis, raise_missing)\u001b[0m\n\u001b[1;32m   1644\u001b[0m             \u001b[0;32mif\u001b[0m \u001b[0;32mnot\u001b[0m \u001b[0;34m(\u001b[0m\u001b[0mself\u001b[0m\u001b[0;34m.\u001b[0m\u001b[0mname\u001b[0m \u001b[0;34m==\u001b[0m \u001b[0;34m\"loc\"\u001b[0m \u001b[0;32mand\u001b[0m \u001b[0;32mnot\u001b[0m \u001b[0mraise_missing\u001b[0m\u001b[0;34m)\u001b[0m\u001b[0;34m:\u001b[0m\u001b[0;34m\u001b[0m\u001b[0;34m\u001b[0m\u001b[0m\n\u001b[1;32m   1645\u001b[0m                 \u001b[0mnot_found\u001b[0m \u001b[0;34m=\u001b[0m \u001b[0mlist\u001b[0m\u001b[0;34m(\u001b[0m\u001b[0mset\u001b[0m\u001b[0;34m(\u001b[0m\u001b[0mkey\u001b[0m\u001b[0;34m)\u001b[0m \u001b[0;34m-\u001b[0m \u001b[0mset\u001b[0m\u001b[0;34m(\u001b[0m\u001b[0max\u001b[0m\u001b[0;34m)\u001b[0m\u001b[0;34m)\u001b[0m\u001b[0;34m\u001b[0m\u001b[0;34m\u001b[0m\u001b[0m\n\u001b[0;32m-> 1646\u001b[0;31m                 \u001b[0;32mraise\u001b[0m \u001b[0mKeyError\u001b[0m\u001b[0;34m(\u001b[0m\u001b[0;34mf\"{not_found} not in index\"\u001b[0m\u001b[0;34m)\u001b[0m\u001b[0;34m\u001b[0m\u001b[0;34m\u001b[0m\u001b[0m\n\u001b[0m\u001b[1;32m   1647\u001b[0m \u001b[0;34m\u001b[0m\u001b[0m\n\u001b[1;32m   1648\u001b[0m             \u001b[0;31m# we skip the warning on Categorical/Interval\u001b[0m\u001b[0;34m\u001b[0m\u001b[0;34m\u001b[0m\u001b[0;34m\u001b[0m\u001b[0m\n",
      "\u001b[0;31mKeyError\u001b[0m: \"['howOftenCalledWhile'] not in index\""
     ]
    }
   ],
   "source": [
    "all_files = glob.glob(\"data/*.csv\")\n",
    "all_files.sort(key=natural_keys)\n",
    "\n",
    "\n",
    "li = []\n",
    "\n",
    "for filename in all_files:\n",
    "    df = pd.read_csv(filename, index_col=None, header=0,sep=\";\")\n",
    "    li.append(df)\n",
    "\n",
    "frame = pd.concat(li, axis=0, ignore_index=True)\n",
    "frame[[\"NumberOfThreads\", \"NumberOfIterations\",\"RunTime\",\"HowFair\",\"howOftenCalledWhile\"]] = frame[[\"NumberOfThreads\", \"NumberOfIterations\",\"RunTime\",\"HowFair\",\"howOftenCalledWhile\"]].astype(float)\n"
   ]
  },
  {
   "cell_type": "code",
   "execution_count": null,
   "metadata": {},
   "outputs": [],
   "source": [
    "df_MSC_lock = frame[(frame['NameOfLock'] == 'MCS_lock')]\n",
    "df_TTAS_lock = frame[(frame['NameOfLock'] == 'TTAS_lock')]\n",
    "df_TAS_lock = frame[(frame['NameOfLock'] == 'TAS_lock')]\n",
    "df_Array_lock = frame[(frame['NameOfLock'] == 'Array_lock')]\n",
    "df_Ticket_lock = frame[(frame['NameOfLock'] == 'Ticket_lock')]\n",
    "df_CLH_lock = frame[(frame['NameOfLock'] == 'CLH_lock')]\n",
    "df_Array_lock_padded = frame[(frame['NameOfLock'] == 'Array_lock_padded')]\n",
    "#df_Array_lock_optimized = frame[(frame['NameOfLock'] == 'Array_lock_optimized')]\n",
    "df_Native_lock = frame[(frame['NameOfLock'] == 'Native_lock')]\n",
    "df_omp_critical = frame[(frame['NameOfLock'] == 'omp_critical')]\n",
    "df_TAS_lock"
   ]
  },
  {
   "cell_type": "code",
   "execution_count": null,
   "metadata": {
    "scrolled": false
   },
   "outputs": [],
   "source": [
    "f = 15\n",
    "plt.semilogy(df_MSC_lock.NumberOfThreads,df_MSC_lock.RunTime,label = \"MCS_lock\")\n",
    "plt.semilogy(df_TTAS_lock.NumberOfThreads,df_TTAS_lock.RunTime,label = \"TTAS_lock\")\n",
    "plt.semilogy(df_TAS_lock.NumberOfThreads,df_TAS_lock.RunTime,label = \"TAS_lock\")\n",
    "plt.semilogy(df_Array_lock.NumberOfThreads,df_Array_lock.RunTime,label = \"Array_lock\")\n",
    "plt.semilogy(df_Ticket_lock.NumberOfThreads,df_Ticket_lock.RunTime,label = \"Ticket_lock\")\n",
    "plt.semilogy(df_CLH_lock.NumberOfThreads,df_CLH_lock.RunTime,label = \"CLH_lock\")\n",
    "#plt.semilogy(df_Array_lock_padded.NumberOfThreads,df_Array_lock_padded.RunTime,label = \"Array_lock_padded\")\n",
    "#plt.semilogy(df_Native_lock.NumberOfThreads,df_Native_lock.RunTime,label = \"Native_lock\")\n",
    "#plt.semilogy(df_omp_critical.NumberOfThreads,df_omp_critical.RunTime,label = \"omp_critical\")\n",
    "plt.rcParams['figure.figsize'] = [10, 5]\n",
    "plt.rc('xtick', labelsize=12) \n",
    "plt.rc('ytick', labelsize=12)\n",
    "plt.xlabel(\"NumberOfThreads\",fontsize=f)\n",
    "plt.ylabel(\"Time[ms]\",fontsize=f)\n",
    "plt.title(\"Time vs NumberOfThreads\",fontsize=f)\n",
    "plt.grid()\n",
    "plt.legend()\n",
    "plt.savefig(\"Time vs NumberOfThreads\")\n"
   ]
  },
  {
   "cell_type": "code",
   "execution_count": null,
   "metadata": {
    "scrolled": false
   },
   "outputs": [],
   "source": [
    "f = 15\n",
    "plt.plot(df_TTAS_lock.NumberOfThreads,df_TTAS_lock.RunTime,label = \"TTAS_lock\")\n",
    "plt.plot(df_TAS_lock.NumberOfThreads,df_TAS_lock.RunTime,label = \"TAS_lock\")\n",
    "plt.plot(df_Native_lock.NumberOfThreads,df_Native_lock.RunTime,label = \"Native_lock\")\n",
    "plt.plot(df_omp_critical.NumberOfThreads,df_omp_critical.RunTime,label = \"omp_critical\")\n",
    "plt.rcParams['figure.figsize'] = [10, 5]\n",
    "plt.rc('xtick', labelsize=12) \n",
    "plt.rc('ytick', labelsize=12) \n",
    "plt.xlabel(\"NumberOfThreads\", fontsize=f)\n",
    "plt.ylabel(\"Time[ms]\", fontsize =f)\n",
    "plt.title(\"Time vs NumberOfThreads\", fontsize=f)\n",
    "plt.grid()\n",
    "plt.legend(fontsize=f-2)\n",
    "plt.savefig(\"Time vs NumberOfThreads baselocks\")"
   ]
  },
  {
   "cell_type": "code",
   "execution_count": null,
   "metadata": {},
   "outputs": [],
   "source": [
    "f = 15\n",
    "iterations = 100000\n",
    "numberT = np.arange(1,61)\n",
    "maxDev = np.ones(60)\n",
    "for i in numberT:\n",
    "    mean = iterations/i\n",
    "    maximum = ((iterations-mean)*(iterations-mean)+(i-1)*mean*mean)/i\n",
    "    maxDev[i-1] = np.sqrt(maximum)\n",
    "    \n",
    "\n",
    "plt.plot(df_TTAS_lock.NumberOfThreads,df_TTAS_lock.HowFair,label = \"TTAS_lock\")\n",
    "plt.plot(df_TAS_lock.NumberOfThreads,df_TAS_lock.HowFair,label = \"TAS_lock\")\n",
    "plt.plot(df_Native_lock.NumberOfThreads,df_Native_lock.HowFair,label = \"Native_lock\")\n",
    "plt.plot(df_omp_critical.NumberOfThreads,df_omp_critical.HowFair,label = \"omp_critical\")\n",
    "plt.plot(numberT,maxDev,'--',label=\"theoretical biggest Standard Deviation\")\n",
    "plt.rcParams['figure.figsize'] = [10, 5]\n",
    "plt.rc('xtick', labelsize=12) \n",
    "plt.rc('ytick', labelsize=12) \n",
    "plt.xlabel(\"NumberOfThreads\", fontsize=f)\n",
    "plt.ylabel(\"Standard Deviation s [-]\", fontsize =f)\n",
    "plt.title(\"Fairness of base locks\", fontsize=f)\n",
    "plt.grid()\n",
    "plt.legend(fontsize=f-2)\n",
    "plt.savefig(\"Fairness of baselocks\")"
   ]
  },
  {
   "cell_type": "code",
   "execution_count": null,
   "metadata": {
    "scrolled": true
   },
   "outputs": [],
   "source": [
    "f = 15\n",
    "plt.plot(df_TTAS_lock.NumberOfThreads,df_TTAS_lock.RunTime,'--',label = \"TTAS_lock\")\n",
    "plt.plot(df_Ticket_lock.NumberOfThreads,df_Ticket_lock.RunTime,label = \"Ticket_lock\")\n",
    "plt.rcParams['figure.figsize'] = [10, 5]\n",
    "plt.rc('xtick', labelsize=12) \n",
    "plt.rc('ytick', labelsize=12) \n",
    "plt.xlabel(\"NumberOfThreads\", fontsize=f)\n",
    "plt.ylabel(\"Time[ms]\", fontsize =f)\n",
    "plt.title(\"Time vs NumberOfThreads\", fontsize=f)\n",
    "plt.grid()\n",
    "plt.legend(fontsize=f-2)\n",
    "plt.savefig(\"Time vs NumberOfThreads Ticket lock\")"
   ]
  },
  {
   "cell_type": "code",
   "execution_count": null,
   "metadata": {},
   "outputs": [],
   "source": [
    "f = 15\n",
    "plt.plot(df_Ticket_lock.NumberOfThreads,df_Ticket_lock.HowFair,label = \"Ticket_lock\")\n",
    "plt.rcParams['figure.figsize'] = [10, 5]\n",
    "plt.rc('xtick', labelsize=12) \n",
    "plt.rc('ytick', labelsize=12) \n",
    "plt.xlabel(\"NumberOfThreads\", fontsize=f)\n",
    "plt.ylabel(\"Standard Deviation s [-]\", fontsize =f)\n",
    "plt.title(\"Fairness of Ticket lock\", fontsize=f)\n",
    "plt.grid()\n",
    "plt.legend(fontsize=f-2)\n",
    "plt.savefig(\"Fairness of Ticket lock\")"
   ]
  },
  {
   "cell_type": "code",
   "execution_count": null,
   "metadata": {
    "scrolled": true
   },
   "outputs": [],
   "source": [
    "f = 15\n",
    "plt.plot(df_TTAS_lock.NumberOfThreads,df_TTAS_lock.RunTime,'--',label = \"TTAS_lock\")\n",
    "plt.plot(df_Ticket_lock.NumberOfThreads,df_Ticket_lock.RunTime,'--',label = \"Ticket_lock\")\n",
    "plt.plot(df_Array_lock.NumberOfThreads,df_Array_lock.RunTime,label = \"Array_lock\")\n",
    "plt.plot(df_Array_lock_padded.NumberOfThreads,df_Array_lock_padded.RunTime,label = \"Array_lock_padded\")\n",
    "plt.rcParams['figure.figsize'] = [10, 5]\n",
    "plt.rc('xtick', labelsize=12) \n",
    "plt.rc('ytick', labelsize=12) \n",
    "plt.xlabel(\"NumberOfThreads\", fontsize=f)\n",
    "plt.ylabel(\"Time[ms]\", fontsize =f)\n",
    "plt.title(\"Time vs NumberOfThreads\", fontsize=f)\n",
    "plt.grid()\n",
    "plt.legend(fontsize=f-2)\n",
    "plt.savefig(\"Time vs NumberOfThreads Array lock\")"
   ]
  },
  {
   "cell_type": "code",
   "execution_count": null,
   "metadata": {},
   "outputs": [],
   "source": [
    "f = 15\n",
    "plt.plot(df_Array_lock.NumberOfThreads,df_Array_lock.HowFair,label = \"Array_lock\")\n",
    "plt.plot(df_Array_lock_padded.NumberOfThreads,df_Array_lock_padded.HowFair,label = \"Array_lock_padded\")\n",
    "plt.rcParams['figure.figsize'] = [10, 5]\n",
    "plt.rc('xtick', labelsize=12) \n",
    "plt.rc('ytick', labelsize=12) \n",
    "plt.xlabel(\"NumberOfThreads\", fontsize=f)\n",
    "plt.ylabel(\"Standard Deviation s [-]\", fontsize =f)\n",
    "plt.title(\"Fairness of Array lock\", fontsize=f)\n",
    "plt.grid()\n",
    "plt.legend(fontsize=f-2)\n",
    "plt.savefig(\"Fairness of Array lock\")"
   ]
  },
  {
   "cell_type": "code",
   "execution_count": null,
   "metadata": {},
   "outputs": [],
   "source": [
    "# CLH Lock\n",
    "f = 15\n",
    "plt.plot(df_TTAS_lock.NumberOfThreads,df_TTAS_lock.RunTime,'--',label = \"TTAS_lock\")\n",
    "plt.plot(df_Ticket_lock.NumberOfThreads,df_Ticket_lock.RunTime,'--',label = \"Ticket_lock\")\n",
    "plt.plot(df_Array_lock.NumberOfThreads,df_Array_lock.RunTime,'--',label = \"Array_lock\")\n",
    "plt.plot(df_Array_lock_padded.NumberOfThreads,df_Array_lock_padded.RunTime,'--',label = \"Array_lock_padded\")\n",
    "plt.plot(df_CLH_lock.NumberOfThreads,df_CLH_lock.RunTime,label = \"CLH_lock\")\n",
    "plt.rcParams['figure.figsize'] = [10, 5]\n",
    "plt.rc('xtick', labelsize=12) \n",
    "plt.rc('ytick', labelsize=12) \n",
    "plt.xlabel(\"NumberOfThreads\", fontsize=f)\n",
    "plt.ylabel(\"Time[ms]\", fontsize =f)\n",
    "plt.title(\"Time vs NumberOfThreads\", fontsize=f)\n",
    "plt.grid()\n",
    "plt.legend(fontsize=f-2)\n",
    "plt.savefig(\"Time vs NumberOfThreads CLH lock\")"
   ]
  },
  {
   "cell_type": "code",
   "execution_count": null,
   "metadata": {
    "scrolled": true
   },
   "outputs": [],
   "source": [
    "f = 15\n",
    "plt.plot(df_CLH_lock.NumberOfThreads,df_CLH_lock.HowFair,label = \"CLH_lock\")\n",
    "plt.rcParams['figure.figsize'] = [10, 5]\n",
    "plt.rc('xtick', labelsize=12) \n",
    "plt.rc('ytick', labelsize=12) \n",
    "plt.xlabel(\"NumberOfThreads\", fontsize=f)\n",
    "plt.ylabel(\"Standard Deviation s [-]\", fontsize =f)\n",
    "plt.title(\"Fairness of CLH lock\", fontsize=f)\n",
    "plt.grid()\n",
    "plt.legend(fontsize=f-2)\n",
    "plt.savefig(\"Fairness of CLH lock\")"
   ]
  },
  {
   "cell_type": "code",
   "execution_count": null,
   "metadata": {},
   "outputs": [],
   "source": [
    "# MSC Lock\n",
    "f = 15\n",
    "plt.plot(df_TTAS_lock.NumberOfThreads,df_TTAS_lock.RunTime,'--',label = \"TTAS_lock\")\n",
    "plt.plot(df_Ticket_lock.NumberOfThreads,df_Ticket_lock.RunTime,'--',label = \"Ticket_lock\")\n",
    "plt.plot(df_Array_lock.NumberOfThreads,df_Array_lock.RunTime,'--',label = \"Array_lock\")\n",
    "plt.plot(df_Array_lock_padded.NumberOfThreads,df_Array_lock_padded.RunTime,'--',label = \"Array_lock_padded\")\n",
    "plt.plot(df_CLH_lock.NumberOfThreads,df_CLH_lock.RunTime,'--',label = \"CLH_lock\")\n",
    "plt.plot(df_MSC_lock.NumberOfThreads,df_MSC_lock.RunTime,label = \"MCS_lock\")\n",
    "plt.rcParams['figure.figsize'] = [10, 5]\n",
    "plt.rc('xtick', labelsize=12) \n",
    "plt.rc('ytick', labelsize=12) \n",
    "plt.xlabel(\"NumberOfThreads\", fontsize=f)\n",
    "plt.ylabel(\"Time[ms]\", fontsize =f)\n",
    "plt.title(\"Time vs NumberOfThreads\", fontsize=f)\n",
    "plt.grid()\n",
    "plt.legend(fontsize=f-2)\n",
    "plt.savefig(\"Time vs NumberOfThreads MCS lock\")"
   ]
  },
  {
   "cell_type": "code",
   "execution_count": null,
   "metadata": {},
   "outputs": [],
   "source": [
    "f = 15\n",
    "plt.plot(df_CLH_lock.NumberOfThreads,df_CLH_lock.HowFair,label = \"MCS_lock\")\n",
    "plt.rcParams['figure.figsize'] = [10, 5]\n",
    "plt.rc('xtick', labelsize=12) \n",
    "plt.rc('ytick', labelsize=12) \n",
    "plt.xlabel(\"NumberOfThreads\", fontsize=f)\n",
    "plt.ylabel(\"Standard Deviation s [-]\", fontsize =f)\n",
    "plt.title(\"Fairness of MSC lock\", fontsize=f)\n",
    "plt.grid()\n",
    "plt.legend(fontsize=f-2)\n",
    "plt.savefig(\"Fairness of MCS lock\")"
   ]
  },
  {
   "cell_type": "code",
   "execution_count": null,
   "metadata": {},
   "outputs": [],
   "source": [
    "plt.errorbar(df_TAS_lock.NumberOfThreads, df_TAS_lock.RunTime, yerr=df_TAS_lock.Timevar, fmt='.k')"
   ]
  },
  {
   "cell_type": "code",
   "execution_count": null,
   "metadata": {},
   "outputs": [],
   "source": [
    "plt.plot(df_TAS_lock.NumberOfThreads, df_TAS_lock.RunTime, 'k-')\n",
    "plt.fill_between(df_TAS_lock.NumberOfThreads, df_TAS_lock.RunTime-df_TAS_lock.Timevar, df_TAS_lock.RunTime+df_TAS_lock.Timevar)"
   ]
  },
  {
   "cell_type": "code",
   "execution_count": null,
   "metadata": {},
   "outputs": [],
   "source": [
    "plt.plot(df_TTAS_lock.NumberOfThreads, df_TTAS_lock.RunTime, 'k-')\n",
    "plt.fill_between(df_TTAS_lock.NumberOfThreads, df_TTAS_lock.RunTime-df_TTAS_lock.Timevar, df_TTAS_lock.RunTime+df_TTAS_lock.Timevar)"
   ]
  },
  {
   "cell_type": "code",
   "execution_count": null,
   "metadata": {},
   "outputs": [],
   "source": [
    "plt.plot(df_Ticket_lock.NumberOfThreads, df_Ticket_lock.RunTime, 'k-')\n",
    "plt.fill_between(df_Ticket_lock.NumberOfThreads, df_Ticket_lock.RunTime-df_Ticket_lock.Timevar, df_Ticket_lock.RunTime+df_Ticket_lock.Timevar)"
   ]
  },
  {
   "cell_type": "code",
   "execution_count": null,
   "metadata": {},
   "outputs": [],
   "source": [
    "plt.plot(df_Array_lock.NumberOfThreads, df_Array_lock.RunTime, 'k-')\n",
    "plt.fill_between(df_Array_lock.NumberOfThreads, df_Array_lock.RunTime-df_Array_lock.Timevar, df_Array_lock.RunTime+df_Array_lock.Timevar)"
   ]
  },
  {
   "cell_type": "code",
   "execution_count": null,
   "metadata": {},
   "outputs": [],
   "source": []
  }
 ],
 "metadata": {
  "kernelspec": {
   "display_name": "Python 3",
   "language": "python",
   "name": "python3"
  },
  "language_info": {
   "codemirror_mode": {
    "name": "ipython",
    "version": 3
   },
   "file_extension": ".py",
   "mimetype": "text/x-python",
   "name": "python",
   "nbconvert_exporter": "python",
   "pygments_lexer": "ipython3",
   "version": "3.6.9"
  }
 },
 "nbformat": 4,
 "nbformat_minor": 4
}
